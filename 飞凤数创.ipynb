{
 "cells": [
  {
   "cell_type": "code",
   "execution_count": 4,
   "metadata": {},
   "outputs": [],
   "source": [
    "import numpy as np \n",
    "import xlrd\n",
    "import pandas as pd"
   ]
  },
  {
   "cell_type": "code",
   "execution_count": 69,
   "metadata": {},
   "outputs": [
    {
     "data": {
      "text/plain": [
       "Index(['第一产业就业占比', '第二产业就业占比', '第三产业就业占比', '第一产业GDP占比', '第二产业GDP占比',\n",
       "       '第三产业GDP占比'],\n",
       "      dtype='object')"
      ]
     },
     "execution_count": 69,
     "metadata": {},
     "output_type": "execute_result"
    }
   ],
   "source": [
    "def read_multisheet_excel(excel_path):\n",
    "    wb = xlrd.open_workbook(excel_path)\n",
    "    # 获取workbook中所有的表格\n",
    "    sheets = wb.sheet_names()\n",
    "    df_dict = {}\n",
    "    \n",
    "    # 读取sheet\n",
    "    for sheet in sheets:\n",
    "        df_dict[sheet] = pd.read_excel(excel_path, sheet_name=sheet, skiprows=1, index=None)\n",
    "    return df_dict\n",
    "\n",
    "df_dict = read_multisheet_excel(\"pandas_data/环境质量.xlsx\")\n",
    "\n",
    "df_ = pd.read_excel(\"pandas_data/产业结构.xlsx\")\n",
    "\n",
    "df_.index = pd.to_datetime(df_.index.astype(str))\n",
    "df_.index.name = \"时间\"\n",
    "df_.columns"
   ]
  },
  {
   "cell_type": "code",
   "execution_count": 6,
   "metadata": {},
   "outputs": [
    {
     "name": "stderr",
     "output_type": "stream",
     "text": [
      "/home/logichacker/.pyenv/versions/anaconda3-5.2.0/lib/python3.6/site-packages/statsmodels/regression/linear_model.py:846: RuntimeWarning: divide by zero encountered in log\n",
      "  llf = -nobs2*np.log(2*np.pi) - nobs2*np.log(ssr / nobs) - nobs2\n"
     ]
    },
    {
     "data": {
      "text/plain": [
       "ADF测试值      -2.055655\n",
       "p值           0.262715\n",
       "滞后阶数         0.000000\n",
       "所用样本数        8.000000\n",
       "拒绝值 (1%)    -4.665186\n",
       "拒绝值 (5%)    -3.367187\n",
       "拒绝值 (10%)   -2.802961\n",
       "dtype: float64"
      ]
     },
     "execution_count": 6,
     "metadata": {},
     "output_type": "execute_result"
    }
   ],
   "source": [
    "from statsmodels.tsa.stattools import adfuller\n",
    "import pandas as pd\n",
    "import matplotlib.pyplot as plt\n",
    "import numpy as np\n",
    "from statsmodels.graphics.tsaplots import plot_acf, plot_pacf\n",
    "\n",
    "# 移动平均图\n",
    "def draw_trend(timeSeries, size):\n",
    "    f = plt.figure(facecolor='white')\n",
    "    # 对size个数据进行移动平均\n",
    "    rol_mean = timeSeries.rolling(window=size).mean()\n",
    "    # 对size个数据进行加权移动平均\n",
    "    rol_weighted_mean = pd.ewma(timeSeries, span=size)\n",
    "\n",
    "    timeSeries.plot(color='blue', label='Original')\n",
    "    rolmean.plot(color='red', label='Rolling Mean')\n",
    "    rol_weighted_mean.plot(color='black', label='Weighted Rolling Mean')\n",
    "    plt.legend(loc='best')\n",
    "    plt.title('Rolling Mean')\n",
    "    plt.show()\n",
    "\n",
    "def draw_ts(timeSeries):\n",
    "    f = plt.figure(facecolor='white')\n",
    "    timeSeries.plot(color='blue')\n",
    "    plt.show()\n",
    "\n",
    "'''\n",
    "　　Unit Root Test\n",
    "   The null hypothesis of the Augmented Dickey-Fuller is that there is a unit\n",
    "   root, with the alternative that there is no unit root. That is to say the\n",
    "   bigger the p-value the more reason we assert that there is a unit root\n",
    "'''\n",
    "def testStationarity(time_series):\n",
    "    dftest = adfuller(time_series)\n",
    "    # 对上述函数求得的值进行语义描述\n",
    "    dfoutput = pd.Series(dftest[0:4], index=['ADF测试值','p值','滞后阶数','所用样本数'])\n",
    "    for key,value in dftest[4].items():\n",
    "        dfoutput['拒绝值 (%s)'% key] = value\n",
    "    return dfoutput\n",
    "\n",
    "# 自相关和偏相关图，默认阶数为序列长度\n",
    "def draw_acf_pacf(time_series, lags=None):\n",
    "    if lags is None:\n",
    "        lags = len(time_series)\n",
    "    f = plt.figure(facecolor='white')\n",
    "    ax1 = f.add_subplot(211)\n",
    "    plot_acf(time_series, lags=lags, ax=ax1)\n",
    "    ax2 = f.add_subplot(212)\n",
    "    plot_pacf(time_series, lags=lags, ax=ax2)\n",
    "    plt.show()\n",
    "    \n",
    "def fillna_with_mean_and_variance(series):\n",
    "    series = series.copy()\n",
    "    mean = series.dropna().mean()\n",
    "    var = series.dropna().var()\n",
    "    isnan = series.isna()\n",
    "    fill_list = np.random.normal(mean, var ,size=isnan.sum()+1000)\n",
    "    fill_idx = 0\n",
    "    for idx, itm in enumerate(isnan):\n",
    "        if itm:\n",
    "            series[series.index[idx]] = fill_list[fill_idx]\n",
    "            fill_idx += 1\n",
    "    return series\n",
    "\n",
    "a = fillna_with_mean_and_variance(df_dict[\"生态环境指标\"][\"生态环境状况指数(无锡市区)\"])\n",
    "def diff(series, n):\n",
    "    return series.copy().diff(n).dropna()\n",
    "c = diff(df_dict[\"生态环境指标\"][\"生态环境状况指数(无锡市区)\"], 2)\n",
    "\n",
    "testStationarity(c.values)"
   ]
  },
  {
   "cell_type": "code",
   "execution_count": 85,
   "metadata": {},
   "outputs": [],
   "source": [
    "df_environment = pd.DataFrame()\n",
    "for df in df_dict.values():\n",
    "\n",
    "    for col in df.columns:\n",
    "        if col != \"Unnamed: 0\" and col != \"时间\":\n",
    "            df_environment = df_environment.append(df[col])\n",
    "df_environment = df_environment.T\n",
    "df_environment[\"时间\"] = pd.to_datetime(tmp[\"日期\"].fillna(2017.0).apply(int).apply(str))\n",
    "\n",
    "\n",
    "df_pleasure = df_environment.loc[:, ('时间', '工业废水排放总量(亿吨)', '生活污水排放总量(亿吨)', '化学需氧量(万吨)', '工业排放烟( 万吨)', '生活污染源排放烟( 万吨)', '工业排放二氧化硫(万吨)', '生活污染源排放二氧化硫(万吨)', '工业固体废物(万吨)', '危险废物(万吨)')].set_index(\"时间\")\n",
    "df_status = df_environment.loc[:, ('时间', \"生态环境状况指数(无锡市区)\")].set_index(\"时间\")\n",
    "df_reaction = df_environment.loc[:, ('时间', '综合利用危险废物(万吨)', '综合利用工业固体废物(万吨)', '一般工业固体废物处置量(万吨)', '危险废物处置量(万吨)')].set_index(\"时间\")\n",
    "\n",
    "df_value = df_.loc[:, ('第一产业GDP占比', '第二产业GDP占比','第三产业GDP占比')]\n",
    "df_employ = df_.loc[:, ('第一产业就业占比', '第二产业就业占比', '第三产业就业占比')]\n",
    "\n",
    "envir = {'环境压力指数':df_pleasure.loc['2006':'2015', :], '环境状态指数':df_status.loc['2006':'2015', :], '环境响应指数':df_reaction.loc['2006':'2015', :]}\n",
    "product = {'产业产值结构':df_value.loc['2006':'2015', :], '产业就业结构':df_employ.loc['2006':'2015', :]}\n",
    "for key, value in envir.items():\n",
    "    value.index = value.index.year\n",
    "    value.to_excel(f\"pandas_data/{key}.xlsx\")\n",
    "\n",
    "for key, value in product.items():\n",
    "    value.index = value.index.year\n",
    "    value.to_excel(f\"pandas_data/{key}.xlsx\")\n"
   ]
  },
  {
   "cell_type": "code",
   "execution_count": 91,
   "metadata": {},
   "outputs": [],
   "source": [
    "def scale_dataframe(df):\n",
    "    tmp = df - df.min()  # equivalent to df = df - df.min()\n",
    "    tmp /= (df.max() - df.min())  # equivalent to df = df / df.max()\n",
    "    return tmp * 70 + 30\n",
    "\n",
    "envir_scaled = {k: scale_dataframe(v) for k, v in envir.items()}\n",
    "for key, value in envir_scaled.items():\n",
    "    value.to_excel(f\"pandas_data/标准化后/{key}.xlsx\")"
   ]
  },
  {
   "cell_type": "code",
   "execution_count": 103,
   "metadata": {},
   "outputs": [
    {
     "name": "stdout",
     "output_type": "stream",
     "text": [
      "环境压力指数 \n",
      " ADF测试值       0.000000\n",
      "p值           0.958532\n",
      "滞后阶数         5.000000\n",
      "所用样本数        4.000000\n",
      "拒绝值 (1%)    -7.355441\n",
      "拒绝值 (5%)    -4.474365\n",
      "拒绝值 (10%)   -3.126933\n",
      "dtype: float64\n",
      "环境状态指数 \n",
      " ADF测试值       0.176978\n",
      "p值           0.970940\n",
      "滞后阶数         3.000000\n",
      "所用样本数        6.000000\n",
      "拒绝值 (1%)    -5.354256\n",
      "拒绝值 (5%)    -3.646238\n",
      "拒绝值 (10%)   -2.901198\n",
      "dtype: float64\n",
      "环境响应指数 \n",
      " ADF测试值      -1.571210\n",
      "p值           0.498038\n",
      "滞后阶数         1.000000\n",
      "所用样本数        8.000000\n",
      "拒绝值 (1%)    -4.665186\n",
      "拒绝值 (5%)    -3.367187\n",
      "拒绝值 (10%)   -2.802961\n",
      "dtype: float64\n"
     ]
    },
    {
     "name": "stderr",
     "output_type": "stream",
     "text": [
      "/home/logichacker/.pyenv/versions/anaconda3-5.2.0/lib/python3.6/site-packages/statsmodels/regression/linear_model.py:1510: RuntimeWarning: divide by zero encountered in double_scalars\n",
      "  return np.dot(wresid, wresid) / self.df_resid\n"
     ]
    }
   ],
   "source": [
    "from sklearn.decomposition import PCA\n",
    "pca = PCA(n_components=1, copy=True, whiten=False)\n",
    "\n",
    "tmp_dict = {}\n",
    "for key, value in envir_scaled.items():\n",
    "#     pca_envir[key] = pca.fit_transform(value)\n",
    "    tmp = pca.fit_transform(value)\n",
    "    tmp.shape = (10, )\n",
    "    tmp_dict[key] = tmp\n",
    "pca_envir = pd.DataFrame(tmp_dict)\n",
    "pca_envir.index = envir[\"环境状态指数\"].index\n",
    "pca_envir.to_excel(\"pandas_data/标准化后/主成分分析后的数据.xlsx\")\n",
    "\n",
    "for col in pca_envir.columns:\n",
    "    print(col, '\\n' ,testStationarity(pca_envir[col]))"
   ]
  },
  {
   "cell_type": "code",
   "execution_count": 138,
   "metadata": {},
   "outputs": [
    {
     "name": "stdout",
     "output_type": "stream",
     "text": [
      "[[1]\n",
      " [2]\n",
      " [3]]\n"
     ]
    }
   ],
   "source": [
    "w = np.array([1, 2, 3])\n",
    "w.shape = (3,1)\n",
    "print(w)\n",
    "a = product[\"产业就业结构\"].values.dot(w) / 100\n",
    "a.shape = (10, )\n",
    "b = product[\"产业产值结构\"].values.dot(w)\n",
    "b.shape = (10, )\n",
    "\n",
    "product_obj = {}\n",
    "product_obj[\"产业就业结构指数\"] = a\n",
    "product_obj[\"产业产值结构指数\"] = b\n",
    "product_obj = pd.DataFrame(product_obj, index=product[\"产业就业结构\"].index)\n",
    "product_obj.index = product[\"产业就业结构\"].index\n",
    "product_obj.to_excel(\"pandas_data/产业结构指数.xlsx\")"
   ]
  },
  {
   "cell_type": "code",
   "execution_count": 122,
   "metadata": {},
   "outputs": [
    {
     "name": "stdout",
     "output_type": "stream",
     "text": [
      "环境压力指数 \n",
      " ADF测试值      -1.213302\n",
      "p值           0.667847\n",
      "滞后阶数         2.000000\n",
      "所用样本数        6.000000\n",
      "拒绝值 (1%)    -5.354256\n",
      "拒绝值 (5%)    -3.646238\n",
      "拒绝值 (10%)   -2.901198\n",
      "dtype: float64\n",
      "环境状态指数 \n",
      " ADF测试值      -3.128508\n",
      "p值           0.024514\n",
      "滞后阶数         0.000000\n",
      "所用样本数        8.000000\n",
      "拒绝值 (1%)    -4.665186\n",
      "拒绝值 (5%)    -3.367187\n",
      "拒绝值 (10%)   -2.802961\n",
      "dtype: float64\n",
      "环境响应指数 \n",
      " ADF测试值        0.000000\n",
      "p值            0.958532\n",
      "滞后阶数          5.000000\n",
      "所用样本数         3.000000\n",
      "拒绝值 (1%)    -10.417191\n",
      "拒绝值 (5%)     -5.778381\n",
      "拒绝值 (10%)    -3.391681\n",
      "dtype: float64\n"
     ]
    },
    {
     "name": "stderr",
     "output_type": "stream",
     "text": [
      "/home/logichacker/.pyenv/versions/anaconda3-5.2.0/lib/python3.6/site-packages/statsmodels/regression/linear_model.py:846: RuntimeWarning: divide by zero encountered in log\n",
      "  llf = -nobs2*np.log(2*np.pi) - nobs2*np.log(ssr / nobs) - nobs2\n",
      "/home/logichacker/.pyenv/versions/anaconda3-5.2.0/lib/python3.6/site-packages/statsmodels/regression/linear_model.py:1510: RuntimeWarning: divide by zero encountered in double_scalars\n",
      "  return np.dot(wresid, wresid) / self.df_resid\n"
     ]
    },
    {
     "data": {
      "text/plain": [
       "(-0.0, 0.98590025802596426, array([-5.52723136, -4.09926457, -3.54927469]))"
      ]
     },
     "execution_count": 122,
     "metadata": {},
     "output_type": "execute_result"
    }
   ],
   "source": [
    "for col in pca_envir.columns:\n",
    "    print(col, '\\n', testStationarity(pca_envir.diff(1).dropna()[col]))\n",
    "\n",
    "\n",
    "import statsmodels.api as sm\n",
    "sm.tsa.stattools.coint(pca_envir.环境压力指数, product[\"产业就业结构\"].values.dot(w))\n",
    "# 做了校验，都是非单整xul"
   ]
  },
  {
   "cell_type": "code",
   "execution_count": 141,
   "metadata": {},
   "outputs": [
    {
     "data": {
      "text/plain": [
       "<matplotlib.axes._subplots.AxesSubplot at 0x7fa2b5269da0>"
      ]
     },
     "execution_count": 141,
     "metadata": {},
     "output_type": "execute_result"
    },
    {
     "data": {
      "image/png": "[encoded data removed]",
      "text/plain": [
       "<Figure size 432x288 with 1 Axes>"
      ]
     },
     "metadata": {},
     "output_type": "display_data"
    },
    {
     "data": {
      "image/png": "[encoded data removed]",
      "text/plain": [
       "<Figure size 432x288 with 1 Axes>"
      ]
     },
     "metadata": {},
     "output_type": "display_data"
    }
   ],
   "source": [
    "import matplotlib\n",
    "from matplotlib import rcParams\n",
    "matplotlib.rcParams['font.sans-serif'] = ['SimHei']\n",
    "matplotlib.rcParams['font.family'] = 'sans-serif'\n",
    "matplotlib.rcParams['axes.unicode_minus'] = False\n",
    "pca_envir.plot()\n",
    "product_obj.plot()\n"
   ]
  },
  {
   "cell_type": "code",
   "execution_count": 145,
   "metadata": {},
   "outputs": [
    {
     "data": {
      "text/plain": [
       "<matplotlib.axes._subplots.AxesSubplot at 0x7fa2b50117b8>"
      ]
     },
     "execution_count": 145,
     "metadata": {},
     "output_type": "execute_result"
    },
    {
     "data": {
      "image/png": "[encoded data removed]",
      "text/plain": [
       "<Figure size 432x288 with 2 Axes>"
      ]
     },
     "metadata": {},
     "output_type": "display_data"
    }
   ],
   "source": [
    "def df_corr(df1, df2):\n",
    "    df = pd.DataFrame()\n",
    "    for col in df1.columns:\n",
    "        for col2 in df2.columns:\n",
    "            df.at[col, col2] = df1[col].corr(df2[col2])\n",
    "    return df\n",
    "df_co = df_corr(product_obj, pca_envir)\n",
    "import seaborn as sns\n",
    "sns.heatmap(df_co)"
   ]
  }
 ],
 "metadata": {
  "kernelspec": {
   "display_name": "Python 3",
   "language": "python",
   "name": "python3"
  },
  "language_info": {
   "codemirror_mode": {
    "name": "ipython",
    "version": 3
   },
   "file_extension": ".py",
   "mimetype": "text/x-python",
   "name": "python",
   "nbconvert_exporter": "python",
   "pygments_lexer": "ipython3",
   "version": "3.6.6"
  }
 },
 "nbformat": 4,
 "nbformat_minor": 2
}
