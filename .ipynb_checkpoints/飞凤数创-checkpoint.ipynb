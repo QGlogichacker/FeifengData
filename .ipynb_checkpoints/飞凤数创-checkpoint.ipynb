{
 "cells": [
  {
   "cell_type": "code",
   "execution_count": 1,
   "metadata": {},
   "outputs": [],
   "source": [
    "import numpy as np \n",
    "import xlrd\n",
    "import pandas as pd"
   ]
  },
  {
   "cell_type": "code",
   "execution_count": 9,
   "metadata": {},
   "outputs": [],
   "source": [
    "def read_multisheet_excel(excel_path):\n",
    "    wb = xlrd.open_workbook(excel_path)\n",
    "    # 获取workbook中所有的表格\n",
    "    sheets = wb.sheet_names()\n",
    "    df_dict = {}\n",
    "    \n",
    "    # 读取sheet\n",
    "    for sheet in sheets:\n",
    "        df_dict[sheet] = pd.read_excel(excel_path, sheet_name=sheet, skiprows=1, index=None)\n",
    "    return df_dict\n",
    "\n",
    "df_dict = read_multisheet_excel(\"pandas_data/环境质量.xlsx\")"
   ]
  },
  {
   "cell_type": "code",
   "execution_count": 11,
   "metadata": {},
   "outputs": [
    {
     "name": "stderr",
     "output_type": "stream",
     "text": [
      "/home/logichacker/.pyenv/versions/anaconda3-5.2.0/lib/python3.6/site-packages/statsmodels/regression/linear_model.py:1510: RuntimeWarning: divide by zero encountered in double_scalars\n",
      "  return np.dot(wresid, wresid) / self.df_resid\n"
     ]
    },
    {
     "data": {
      "text/plain": [
       "ADF测试值       0.000000\n",
       "p值           0.958532\n",
       "滞后阶数         8.000000\n",
       "样本数          8.000000\n",
       "拒绝值 (1%)    -4.665186\n",
       "拒绝值 (5%)    -3.367187\n",
       "拒绝值 (10%)   -2.802961\n",
       "dtype: float64"
      ]
     },
     "execution_count": 11,
     "metadata": {},
     "output_type": "execute_result"
    }
   ],
   "source": [
    "from statsmodels.tsa.stattools import adfuller\n",
    "import pandas as pd\n",
    "import matplotlib.pyplot as plt\n",
    "import numpy as np\n",
    "from statsmodels.graphics.tsaplots import plot_acf, plot_pacf\n",
    "\n",
    "# 移动平均图\n",
    "def draw_trend(timeSeries, size):\n",
    "    f = plt.figure(facecolor='white')\n",
    "    # 对size个数据进行移动平均\n",
    "    rol_mean = timeSeries.rolling(window=size).mean()\n",
    "    # 对size个数据进行加权移动平均\n",
    "    rol_weighted_mean = pd.ewma(timeSeries, span=size)\n",
    "\n",
    "    timeSeries.plot(color='blue', label='Original')\n",
    "    rolmean.plot(color='red', label='Rolling Mean')\n",
    "    rol_weighted_mean.plot(color='black', label='Weighted Rolling Mean')\n",
    "    plt.legend(loc='best')\n",
    "    plt.title('Rolling Mean')\n",
    "    plt.show()\n",
    "\n",
    "def draw_ts(timeSeries):\n",
    "    f = plt.figure(facecolor='white')\n",
    "    timeSeries.plot(color='blue')\n",
    "    plt.show()\n",
    "\n",
    "'''\n",
    "　　Unit Root Test\n",
    "   The null hypothesis of the Augmented Dickey-Fuller is that there is a unit\n",
    "   root, with the alternative that there is no unit root. That is to say the\n",
    "   bigger the p-value the more reason we assert that there is a unit root\n",
    "'''\n",
    "def testStationarity(time_series):\n",
    "    dftest = adfuller(time_series)\n",
    "    # 对上述函数求得的值进行语义描述\n",
    "    dfoutput = pd.Series(dftest[0:4], index=['ADF测试值','p值','滞后阶数','样本数'])\n",
    "    for key,value in dftest[4].items():\n",
    "        dfoutput['拒绝值 (%s)'% key] = value\n",
    "    return dfoutput\n",
    "\n",
    "# 自相关和偏相关图，默认阶数为序列长度\n",
    "def draw_acf_pacf(time_series, lags=None):\n",
    "    if lags is None:\n",
    "        lags = len(time_series)\n",
    "    f = plt.figure(facecolor='white')\n",
    "    ax1 = f.add_subplot(211)\n",
    "    plot_acf(time_series, lags=lags, ax=ax1)\n",
    "    ax2 = f.add_subplot(212)\n",
    "    plot_pacf(time_series, lags=lags, ax=ax2)\n",
    "    plt.show()\n",
    "    \n",
    "def fillna_with_mean_and_variance(series):\n",
    "    series = series.copy()\n",
    "    mean = series.dropna().mean()\n",
    "    var = series.dropna().var()\n",
    "    isnan = series.isna()\n",
    "    fill_list = np.random.normal(mean, var ,size=isnan.sum()+1000)\n",
    "    fill_idx = 0\n",
    "    for idx, itm in enumerate(isnan):\n",
    "        if itm:\n",
    "            series[series.index[idx]] = fill_list[fill_idx]\n",
    "            fill_idx += 1\n",
    "    return series\n",
    "\n",
    "a = fillna_with_mean_and_variance(df_dict[\"生态环境指标\"][\"生态环境状况指数(无锡市区)\"])\n",
    "testStationarity(a)"
   ]
  },
  {
   "cell_type": "code",
   "execution_count": 12,
   "metadata": {},
   "outputs": [
    {
     "data": {
      "text/html": [
       "<div>\n",
       "<style scoped>\n",
       "    .dataframe tbody tr th:only-of-type {\n",
       "        vertical-align: middle;\n",
       "    }\n",
       "\n",
       "    .dataframe tbody tr th {\n",
       "        vertical-align: top;\n",
       "    }\n",
       "\n",
       "    .dataframe thead th {\n",
       "        text-align: right;\n",
       "    }\n",
       "</style>\n",
       "<table border=\"1\" class=\"dataframe\">\n",
       "  <thead>\n",
       "    <tr style=\"text-align: right;\">\n",
       "      <th></th>\n",
       "      <th>生态环境状况指数(无锡市区)</th>\n",
       "    </tr>\n",
       "    <tr>\n",
       "      <th>时间</th>\n",
       "      <th></th>\n",
       "    </tr>\n",
       "  </thead>\n",
       "  <tbody>\n",
       "    <tr>\n",
       "      <th>2000</th>\n",
       "      <td>NaN</td>\n",
       "    </tr>\n",
       "    <tr>\n",
       "      <th>2001</th>\n",
       "      <td>NaN</td>\n",
       "    </tr>\n",
       "    <tr>\n",
       "      <th>2002</th>\n",
       "      <td>NaN</td>\n",
       "    </tr>\n",
       "    <tr>\n",
       "      <th>2003</th>\n",
       "      <td>NaN</td>\n",
       "    </tr>\n",
       "    <tr>\n",
       "      <th>2004</th>\n",
       "      <td>NaN</td>\n",
       "    </tr>\n",
       "    <tr>\n",
       "      <th>2005</th>\n",
       "      <td>NaN</td>\n",
       "    </tr>\n",
       "    <tr>\n",
       "      <th>2006</th>\n",
       "      <td>NaN</td>\n",
       "    </tr>\n",
       "    <tr>\n",
       "      <th>2007</th>\n",
       "      <td>NaN</td>\n",
       "    </tr>\n",
       "    <tr>\n",
       "      <th>2008</th>\n",
       "      <td>NaN</td>\n",
       "    </tr>\n",
       "    <tr>\n",
       "      <th>2009</th>\n",
       "      <td>67.90</td>\n",
       "    </tr>\n",
       "    <tr>\n",
       "      <th>2010</th>\n",
       "      <td>68.39</td>\n",
       "    </tr>\n",
       "    <tr>\n",
       "      <th>2011</th>\n",
       "      <td>68.53</td>\n",
       "    </tr>\n",
       "    <tr>\n",
       "      <th>2012</th>\n",
       "      <td>73.16</td>\n",
       "    </tr>\n",
       "    <tr>\n",
       "      <th>2013</th>\n",
       "      <td>71.23</td>\n",
       "    </tr>\n",
       "    <tr>\n",
       "      <th>2014</th>\n",
       "      <td>70.63</td>\n",
       "    </tr>\n",
       "    <tr>\n",
       "      <th>2015</th>\n",
       "      <td>72.88</td>\n",
       "    </tr>\n",
       "    <tr>\n",
       "      <th>2016</th>\n",
       "      <td>67.51</td>\n",
       "    </tr>\n",
       "  </tbody>\n",
       "</table>\n",
       "</div>"
      ],
      "text/plain": [
       "      生态环境状况指数(无锡市区)\n",
       "时间                  \n",
       "2000             NaN\n",
       "2001             NaN\n",
       "2002             NaN\n",
       "2003             NaN\n",
       "2004             NaN\n",
       "2005             NaN\n",
       "2006             NaN\n",
       "2007             NaN\n",
       "2008             NaN\n",
       "2009           67.90\n",
       "2010           68.39\n",
       "2011           68.53\n",
       "2012           73.16\n",
       "2013           71.23\n",
       "2014           70.63\n",
       "2015           72.88\n",
       "2016           67.51"
      ]
     },
     "execution_count": 12,
     "metadata": {},
     "output_type": "execute_result"
    }
   ],
   "source": [
    "df_dict[\"生态环境指标\"].loc[:, (\"时间\", \"生态环境状况指数(无锡市区)\")].set_index(\"时间\")"
   ]
  },
  {
   "cell_type": "code",
   "execution_count": 13,
   "metadata": {},
   "outputs": [
    {
     "ename": "SyntaxError",
     "evalue": "invalid syntax (<ipython-input-13-a592535d2d48>, line 5)",
     "output_type": "error",
     "traceback": [
      "\u001b[0;36m  File \u001b[0;32m\"<ipython-input-13-a592535d2d48>\"\u001b[0;36m, line \u001b[0;32m5\u001b[0m\n\u001b[0;31m    pd.Series({\"ADF统计校验值\": tup[0], \"p-值\":tup[1], \"滞后阶数\":tup[2], \"\"})\u001b[0m\n\u001b[0m                                                                  ^\u001b[0m\n\u001b[0;31mSyntaxError\u001b[0m\u001b[0;31m:\u001b[0m invalid syntax\n"
     ]
    }
   ],
   "source": [
    "ts.adfuller(df_dict[\"生态环境指标\"][\"生态环境状况指数(无锡市区)\"].dropna(), 0)\n",
    "\n",
    "def adf校验(series):\n",
    "    tup = ts.adfuller(series)\n",
    "    pd.Series({\"ADF统计校验值\": tup[0], \"p-值\":tup[1], \"滞后阶数\":tup[2], \"\"})"
   ]
  },
  {
   "cell_type": "code",
   "execution_count": 19,
   "metadata": {},
   "outputs": [
    {
     "data": {
      "text/plain": [
       "1       1.0\n",
       "2       1.0\n",
       "5555    NaN\n",
       "dtype: float64"
      ]
     },
     "execution_count": 19,
     "metadata": {},
     "output_type": "execute_result"
    }
   ],
   "source": [
    "pd.Series({\"1\":1, \"2\":1, \"5555\":None})"
   ]
  }
 ],
 "metadata": {
  "kernelspec": {
   "display_name": "Python 3",
   "language": "python",
   "name": "python3"
  },
  "language_info": {
   "codemirror_mode": {
    "name": "ipython",
    "version": 3
   },
   "file_extension": ".py",
   "mimetype": "text/x-python",
   "name": "python",
   "nbconvert_exporter": "python",
   "pygments_lexer": "ipython3",
   "version": "3.6.6"
  }
 },
 "nbformat": 4,
 "nbformat_minor": 2
}
